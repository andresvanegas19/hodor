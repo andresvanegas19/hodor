{
 "cells": [
  {
   "cell_type": "code",
   "execution_count": 3,
   "metadata": {
    "scrolled": true
   },
   "outputs": [],
   "source": [
    "from selenium import webdriver\n",
    "\n",
    "\n",
    "browser = webdriver.Chrome()\n",
    "browser.get('http://158.69.76.135/level0.php')\n",
    "#with webdriver.Chrome() as browser:\n",
    "    #pybuttom = browser.find_element(By.NAME, \"//input[@name='holdthedoor;\")\n",
    "    #(\"//input[@name='lang' and @value='Python']\")\n"
   ]
  },
  {
   "cell_type": "markdown",
   "metadata": {},
   "source": [
    "## Work with selenium"
   ]
  },
  {
   "cell_type": "code",
   "execution_count": 103,
   "metadata": {
    "scrolled": false
   },
   "outputs": [],
   "source": [
    "\n",
    "# request the page and navegate throught this    \n",
    "browser = webdriver.Chrome()\n",
    "browser.get('http://158.69.76.135/level0.php')\n",
    "\n"
   ]
  },
  {
   "cell_type": "code",
   "execution_count": 104,
   "metadata": {},
   "outputs": [],
   "source": [
    "def req_votes(num, id):\n",
    "    for i in range(num):\n",
    "        browser.find_element(By.NAME, \"id\").send_keys(id)\n",
    "        browser.find_element(By.NAME, \"holdthedoor\").click()"
   ]
  },
  {
   "cell_type": "code",
   "execution_count": 1,
   "metadata": {},
   "outputs": [],
   "source": [
    "#req_votes(1020, \"1565\")\n",
    "a = 2"
   ]
  },
  {
   "cell_type": "markdown",
   "metadata": {},
   "source": [
    "# selenium with more excersice"
   ]
  },
  {
   "cell_type": "code",
   "execution_count": 80,
   "metadata": {},
   "outputs": [],
   "source": [
    "browser = webdriver.Chrome()\n",
    "browser.get('http://158.69.76.135/level1.php')\n",
    "\n"
   ]
  },
  {
   "cell_type": "code",
   "execution_count": 81,
   "metadata": {},
   "outputs": [],
   "source": [
    "def votes_levl(identi):\n",
    "    browser.find_element_by_name(\"id\").send_keys(id)\n",
    "    browser.find_element_by_name(\"holdthedoor\").click()\n"
   ]
  },
  {
   "cell_type": "code",
   "execution_count": null,
   "metadata": {},
   "outputs": [],
   "source": [
    "def reque_votes(num, id, i):\n",
    "    for _ in range(num):\n",
    "        try:\n",
    "            votes_levl(id)\n",
    "        except Exception as e:\n",
    "            print(\"NOooo....\", i)\n",
    "            if i < num:\n",
    "                votes_levl(id)\n",
    "            else:\n",
    "                break;\n",
    "        finally:\n",
    "            i += 1\n",
    "    return i\n"
   ]
  },
  {
   "cell_type": "code",
   "execution_count": null,
   "metadata": {},
   "outputs": [],
   "source": [
    "id = \"1565\" # my id\n",
    "i = 0 # count number of iteration\n",
    "num = 4000 # total of iteration\n",
    "print(\"this is the number of iteration :\", reque_votes(num, id, i))"
   ]
  },
  {
   "cell_type": "markdown",
   "metadata": {},
   "source": [
    "# MASK my desktop"
   ]
  },
  {
   "cell_type": "code",
   "execution_count": 96,
   "metadata": {},
   "outputs": [
    {
     "name": "stderr",
     "output_type": "stream",
     "text": [
      "/Users/imac/opt/anaconda3/envs/webscript/lib/python3.7/site-packages/ipykernel_launcher.py:6: DeprecationWarning: use options instead of chrome_options\n",
      "  \n"
     ]
    }
   ],
   "source": [
    "from selenium.webdriver.chrome.options import Options\n",
    "# to change the User-Agent in Chrome\n",
    "opts = Options()\n",
    "opts.add_argument(\"user-agent=Mozilla/5.0 (Windows NT 10.0; Win64; x64) AppleWebKit/537.36 (KHTML, like Gecko) Chrome/83.0.4103.61 Safari/537.36\")\n",
    "\n",
    "browser = webdriver.Chrome(chrome_options=opts)\n",
    "browser.get('http://158.69.76.135/level2.php')\n",
    "\n",
    "\n",
    "# User-Agent: Mozilla/5.0 (Windows NT 10.0; Win64; x64) AppleWebKit/537.36 (KHTML, like Gecko) Chrome/83.0.4103.61 Safari/537.3636\n",
    "# https://kapeli.com/cheat_sheets/HTTP_Header_Fields.docset/Contents/Resources/Documents/index\n",
    "# this is error for change the way I search"
   ]
  },
  {
   "cell_type": "code",
   "execution_count": 95,
   "metadata": {},
   "outputs": [],
   "source": [
    "id = \"1565\" # my id\n",
    "\n",
    "def votes_levl(identi):\n",
    "    browser.find_element_by_name(\"id\").send_keys(id)\n",
    "    browser.find_element_by_name(\"holdthedoor\").click()\n",
    "    \n",
    "def restart():\n",
    "    opts = Options()\n",
    "    opts.add_argument(\"user-agent=Mozilla/5.0 (Windows NT 10.0; Win64; x64) AppleWebKit/537.36 (KHTML, like Gecko) Chrome/83.0.4103.61 Safari/537.36\")\n",
    "    browser = webdriver.Chrome(chrome_options=opts)\n",
    "    browser.get('http://158.69.76.135/level2.php')\n",
    "    \n",
    "\n",
    "def reque_votes(total, num, id, i):\n",
    "    if num < 1024:\n",
    "        for _ in range(total):\n",
    "            try:\n",
    "                votes_levl(id)\n",
    "            except Exception as e:\n",
    "                print(\"NOooo....\", i)\n",
    "                if i < num:\n",
    "                    restart()\n",
    "                    reque_votes(num, id, 0)\n",
    "            finally:\n",
    "                num -= 1\n",
    "\n",
    "total = 2000      \n",
    "reque_votes(total, 2000, id, 0)"
   ]
  },
  {
   "cell_type": "code",
   "execution_count": 97,
   "metadata": {},
   "outputs": [],
   "source": [
    "id = \"1565\" # my id\n",
    "def votes_levl(identi):\n",
    "    browser.find_element_by_name(\"id\").send_keys(id)\n",
    "    browser.find_element_by_name(\"holdthedoor\").click()\n",
    "\n",
    "def reque_votes(total, dic, identificador):\n",
    "    for _ in range(total):\n",
    "        if dic > 0:\n",
    "            try:\n",
    "                votes_levl(identificador)\n",
    "                dic -= 1\n",
    "            except Exception as e:\n",
    "                print(\"NOooo....\", i)\n",
    "                if i < num:\n",
    "                    restart()\n",
    "                    reque_votes(num, id, 0)\n",
    "        else:\n",
    "            return \"Done\"\n",
    "\n",
    "reque_votes(1026, 1026, id)"
   ]
  }
 ],
 "metadata": {
  "kernelspec": {
   "display_name": "webscript",
   "language": "python",
   "name": "webscript"
  },
  "language_info": {
   "codemirror_mode": {
    "name": "ipython",
    "version": 3
   },
   "file_extension": ".py",
   "mimetype": "text/x-python",
   "name": "python",
   "nbconvert_exporter": "python",
   "pygments_lexer": "ipython3",
   "version": "3.7.7"
  }
 },
 "nbformat": 4,
 "nbformat_minor": 4
}
