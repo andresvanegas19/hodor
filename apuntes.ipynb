{
 "cells": [
  {
   "cell_type": "code",
   "execution_count": 3,
   "metadata": {
    "scrolled": true
   },
   "outputs": [],
   "source": [
    "from selenium import webdriver\n",
    "\n",
    "\n",
    "browser = webdriver.Chrome()\n",
    "browser.get('http://158.69.76.135/level0.php')\n",
    "#with webdriver.Chrome() as browser:\n",
    "    #pybuttom = browser.find_element(By.NAME, \"//input[@name='holdthedoor;\")\n",
    "    #(\"//input[@name='lang' and @value='Python']\")\n"
   ]
  },
  {
   "cell_type": "markdown",
   "metadata": {},
   "source": [
    "## Work with selenium"
   ]
  },
  {
   "cell_type": "code",
   "execution_count": 103,
   "metadata": {
    "scrolled": false
   },
   "outputs": [],
   "source": [
    "\n",
    "# request the page and navegate throught this    \n",
    "browser = webdriver.Chrome()\n",
    "browser.get('http://158.69.76.135/level0.php')\n",
    "\n"
   ]
  },
  {
   "cell_type": "code",
   "execution_count": 104,
   "metadata": {},
   "outputs": [],
   "source": [
    "def req_votes(num, id):\n",
    "    for i in range(num):\n",
    "        browser.find_element(By.NAME, \"id\").send_keys(id)\n",
    "        browser.find_element(By.NAME, \"holdthedoor\").click()"
   ]
  },
  {
   "cell_type": "code",
   "execution_count": 1,
   "metadata": {},
   "outputs": [],
   "source": [
    "#req_votes(1020, \"1565\")\n",
    "a = 2"
   ]
  },
  {
   "cell_type": "markdown",
   "metadata": {},
   "source": [
    "# selenium with more excersice"
   ]
  },
  {
   "cell_type": "code",
   "execution_count": 57,
   "metadata": {},
   "outputs": [],
   "source": [
    "browser = webdriver.Chrome()\n",
    "browser.get('http://158.69.76.135/level1.php')\n",
    "\n"
   ]
  },
  {
   "cell_type": "code",
   "execution_count": 58,
   "metadata": {},
   "outputs": [],
   "source": [
    "id = \"1565\"\n",
    "i = 0\n",
    "def votes_levl(num, identi):\n",
    "    for _ in range(num):\n",
    "        try:\n",
    "            browser.find_element_by_name(\"id\").send_keys(id)\n",
    "        except Exception as e:\n",
    "            print(\"np\")\n",
    "            exit(1)\n",
    "        browser.find_element_by_name(\"holdthedoor\").click()\n"
   ]
  },
  {
   "cell_type": "code",
   "execution_count": null,
   "metadata": {},
   "outputs": [],
   "source": [
    "id = \"1565\"\n",
    "votes_levl(5000, id)"
   ]
  },
  {
   "cell_type": "code",
   "execution_count": null,
   "metadata": {},
   "outputs": [],
   "source": []
  }
 ],
 "metadata": {
  "kernelspec": {
   "display_name": "webscript",
   "language": "python",
   "name": "webscript"
  },
  "language_info": {
   "codemirror_mode": {
    "name": "ipython",
    "version": 3
   },
   "file_extension": ".py",
   "mimetype": "text/x-python",
   "name": "python",
   "nbconvert_exporter": "python",
   "pygments_lexer": "ipython3",
   "version": "3.7.7"
  }
 },
 "nbformat": 4,
 "nbformat_minor": 4
}
